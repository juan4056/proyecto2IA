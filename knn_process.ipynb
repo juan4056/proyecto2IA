{
 "cells": [
  {
   "cell_type": "code",
   "execution_count": 22,
   "metadata": {},
   "outputs": [],
   "source": [
    "import pandas as pd\n",
    "from sklearn.metrics import confusion_matrix, accuracy_score\n",
    "import numpy as np\n",
    "import matplotlib.pyplot as plt\n",
    "from scipy.stats import norm  \n"
   ]
  },
  {
   "cell_type": "code",
   "execution_count": 8,
   "metadata": {},
   "outputs": [],
   "source": [
    "k = 10\n",
    "y_true = []\n",
    "y_predict = []\n",
    "for i in range(k):\n",
    "    ktrue = pd.read_csv('data/test/testY' +\n",
    "                        str(i) + '.pts', sep='\t', header=None)\n",
    "    kpredict = pd.read_csv('data/results/knn/results' +\n",
    "                        str(i) + '.pts', sep='\t', header=None)\n",
    "    y_true.append(ktrue)\n",
    "    y_predict.append(kpredict)"
   ]
  },
  {
   "cell_type": "code",
   "execution_count": 12,
   "metadata": {},
   "outputs": [
    {
     "name": "stdout",
     "output_type": "stream",
     "text": [
      "Experiment 1:\n",
      "[[248  13]\n",
      " [  7 233]]\n",
      "Experiment 2:\n",
      "[[248   8]\n",
      " [  8 236]]\n",
      "Experiment 3:\n",
      "[[217   9]\n",
      " [  9 265]]\n",
      "Experiment 4:\n",
      "[[238  15]\n",
      " [  5 242]]\n",
      "Experiment 5:\n",
      "[[233  12]\n",
      " [ 11 244]]\n",
      "Experiment 6:\n",
      "[[247  18]\n",
      " [ 11 224]]\n",
      "Experiment 7:\n",
      "[[241  14]\n",
      " [  3 242]]\n",
      "Experiment 8:\n",
      "[[234  10]\n",
      " [ 12 244]]\n",
      "Experiment 9:\n",
      "[[237  11]\n",
      " [  8 244]]\n",
      "Experiment 10:\n",
      "[[232  15]\n",
      " [  9 244]]\n"
     ]
    }
   ],
   "source": [
    "for i in range(k):\n",
    "    print(\"Experiment \" + str(i + 1) + \":\")\n",
    "    print(confusion_matrix(y_true[i], y_predict[i]))"
   ]
  },
  {
   "cell_type": "code",
   "execution_count": 35,
   "metadata": {},
   "outputs": [
    {
     "name": "stdout",
     "output_type": "stream",
     "text": [
      "Experiment 1: 0.9600798403193613\n",
      "Experiment 2: 0.968\n",
      "Experiment 3: 0.964\n",
      "Experiment 4: 0.96\n",
      "Experiment 5: 0.954\n",
      "Experiment 6: 0.942\n",
      "Experiment 7: 0.966\n",
      "Experiment 8: 0.956\n",
      "Experiment 9: 0.962\n",
      "Experiment 10: 0.952\n"
     ]
    }
   ],
   "source": [
    "errors = []\n",
    "for i in range(k):\n",
    "    print(\"Experiment \" + str(i + 1), end=\": \")\n",
    "    print(accuracy_score(y_true[i], y_predict[i]))\n",
    "    errors.append(1 - accuracy_score(y_true[i], y_predict[i]))"
   ]
  },
  {
   "cell_type": "code",
   "execution_count": 34,
   "metadata": {},
   "outputs": [
    {
     "name": "stdout",
     "output_type": "stream",
     "text": [
      "Experiment 1: 0.03992015968063867\n",
      "Experiment 2: 0.03200000000000003\n",
      "Experiment 3: 0.03600000000000003\n",
      "Experiment 4: 0.040000000000000036\n",
      "Experiment 5: 0.04600000000000004\n",
      "Experiment 6: 0.05800000000000005\n",
      "Experiment 7: 0.03400000000000003\n",
      "Experiment 8: 0.04400000000000004\n",
      "Experiment 9: 0.038000000000000034\n",
      "Experiment 10: 0.04800000000000004\n",
      "Estimación del Error: 0.0415920159680639\n"
     ]
    }
   ],
   "source": [
    "for i in range(k):\n",
    "    print(\"Experiment \" + str(i + 1), end=\": \")\n",
    "    print(errors[i])\n",
    "print(\"Estimación del Error: \" + str(np.mean(errors)))"
   ]
  },
  {
   "cell_type": "code",
   "execution_count": 31,
   "metadata": {},
   "outputs": [
    {
     "data": {
      "image/png": "[encoded data removed]",
      "text/plain": [
       "<Figure size 432x288 with 1 Axes>"
      ]
     },
     "metadata": {
      "needs_background": "light"
     },
     "output_type": "display_data"
    }
   ],
   "source": [
    "mu = np.mean(errors)\n",
    "sigma = np.std(errors)\n",
    "x = np.linspace(mu - 3*sigma, mu + 3*sigma, 100)\n",
    "plt.plot(x, norm.pdf(x, mu, sigma))\n",
    "plt.show()"
   ]
  }
 ],
 "metadata": {
  "interpreter": {
   "hash": "916dbcbb3f70747c44a77c7bcd40155683ae19c65e1c03b4aa3499c5328201f1"
  },
  "kernelspec": {
   "display_name": "Python 3.8.10 64-bit",
   "name": "python3"
  },
  "language_info": {
   "codemirror_mode": {
    "name": "ipython",
    "version": 3
   },
   "file_extension": ".py",
   "mimetype": "text/x-python",
   "name": "python",
   "nbconvert_exporter": "python",
   "pygments_lexer": "ipython3",
   "version": "3.8.10"
  },
  "orig_nbformat": 4
 },
 "nbformat": 4,
 "nbformat_minor": 2
}
