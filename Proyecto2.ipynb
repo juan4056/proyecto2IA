{
  "nbformat": 4,
  "nbformat_minor": 0,
  "metadata": {
    "colab": {
      "name": "Proyecto2.ipynb",
      "provenance": [],
      "collapsed_sections": []
    },
    "kernelspec": {
      "name": "python3",
      "display_name": "Python 3"
    },
    "language_info": {
      "name": "python"
    }
  },
  "cells": [
    {
      "cell_type": "markdown",
      "metadata": {
        "id": "hQ0q9TPK4X6P"
      },
      "source": [
        "Importamos nuestras librerías para comenzar a analizar el dataset"
      ]
    },
    {
      "cell_type": "code",
      "metadata": {
        "id": "i5DHXYsL1nG0"
      },
      "source": [
        "import numpy as np\n",
        "import matplotlib.pyplot as plt\n",
        "from sklearn.model_selection import train_test_split\n",
        "from sklearn import preprocessing\n",
        "import pandas as pd\n",
        "import seaborn as sns\n"
      ],
      "execution_count": 165,
      "outputs": []
    },
    {
      "cell_type": "markdown",
      "metadata": {
        "id": "OQ-c8iQe4gvw"
      },
      "source": [
        "Cargamos el dataset a un dataframe mediante pandas"
      ]
    },
    {
      "cell_type": "code",
      "metadata": {
        "id": "N9vyaQry2zu0"
      },
      "source": [
        "df = pd.read_csv('gender_classification.csv')"
      ],
      "execution_count": 166,
      "outputs": []
    },
    {
      "cell_type": "markdown",
      "metadata": {
        "id": "msy3Z2RP4mAd"
      },
      "source": [
        "Observamos los datos de nuestro dataset podemos observar que las muestras tiene varios atributos binarios y otros atributos de tipo real, al igual que el género se podría definir como atributo binario"
      ]
    },
    {
      "cell_type": "code",
      "metadata": {
        "colab": {
          "base_uri": "https://localhost:8080/",
          "height": 206
        },
        "id": "MhKXQe_J6mcP",
        "outputId": "4f8a60a0-54ce-4ee0-a74c-c2f21cb9168c"
      },
      "source": [
        "df.head()"
      ],
      "execution_count": 167,
      "outputs": [
        {
          "output_type": "execute_result",
          "data": {
            "text/html": [
              "<div>\n",
              "<style scoped>\n",
              "    .dataframe tbody tr th:only-of-type {\n",
              "        vertical-align: middle;\n",
              "    }\n",
              "\n",
              "    .dataframe tbody tr th {\n",
              "        vertical-align: top;\n",
              "    }\n",
              "\n",
              "    .dataframe thead th {\n",
              "        text-align: right;\n",
              "    }\n",
              "</style>\n",
              "<table border=\"1\" class=\"dataframe\">\n",
              "  <thead>\n",
              "    <tr style=\"text-align: right;\">\n",
              "      <th></th>\n",
              "      <th>long_hair</th>\n",
              "      <th>forehead_width_cm</th>\n",
              "      <th>forehead_height_cm</th>\n",
              "      <th>nose_wide</th>\n",
              "      <th>nose_long</th>\n",
              "      <th>lips_thin</th>\n",
              "      <th>distance_nose_to_lip_long</th>\n",
              "      <th>gender</th>\n",
              "    </tr>\n",
              "  </thead>\n",
              "  <tbody>\n",
              "    <tr>\n",
              "      <th>0</th>\n",
              "      <td>1</td>\n",
              "      <td>11.8</td>\n",
              "      <td>6.1</td>\n",
              "      <td>1</td>\n",
              "      <td>0</td>\n",
              "      <td>1</td>\n",
              "      <td>1</td>\n",
              "      <td>Male</td>\n",
              "    </tr>\n",
              "    <tr>\n",
              "      <th>1</th>\n",
              "      <td>0</td>\n",
              "      <td>14.0</td>\n",
              "      <td>5.4</td>\n",
              "      <td>0</td>\n",
              "      <td>0</td>\n",
              "      <td>1</td>\n",
              "      <td>0</td>\n",
              "      <td>Female</td>\n",
              "    </tr>\n",
              "    <tr>\n",
              "      <th>2</th>\n",
              "      <td>0</td>\n",
              "      <td>11.8</td>\n",
              "      <td>6.3</td>\n",
              "      <td>1</td>\n",
              "      <td>1</td>\n",
              "      <td>1</td>\n",
              "      <td>1</td>\n",
              "      <td>Male</td>\n",
              "    </tr>\n",
              "    <tr>\n",
              "      <th>3</th>\n",
              "      <td>0</td>\n",
              "      <td>14.4</td>\n",
              "      <td>6.1</td>\n",
              "      <td>0</td>\n",
              "      <td>1</td>\n",
              "      <td>1</td>\n",
              "      <td>1</td>\n",
              "      <td>Male</td>\n",
              "    </tr>\n",
              "    <tr>\n",
              "      <th>4</th>\n",
              "      <td>1</td>\n",
              "      <td>13.5</td>\n",
              "      <td>5.9</td>\n",
              "      <td>0</td>\n",
              "      <td>0</td>\n",
              "      <td>0</td>\n",
              "      <td>0</td>\n",
              "      <td>Female</td>\n",
              "    </tr>\n",
              "  </tbody>\n",
              "</table>\n",
              "</div>"
            ],
            "text/plain": [
              "   long_hair  forehead_width_cm  ...  distance_nose_to_lip_long  gender\n",
              "0          1               11.8  ...                          1    Male\n",
              "1          0               14.0  ...                          0  Female\n",
              "2          0               11.8  ...                          1    Male\n",
              "3          0               14.4  ...                          1    Male\n",
              "4          1               13.5  ...                          0  Female\n",
              "\n",
              "[5 rows x 8 columns]"
            ]
          },
          "metadata": {},
          "execution_count": 167
        }
      ]
    },
    {
      "cell_type": "code",
      "metadata": {
        "colab": {
          "base_uri": "https://localhost:8080/",
          "height": 455
        },
        "id": "hZ_MBypu72Od",
        "outputId": "18bf51b0-ed1a-4b11-e402-718189c78659"
      },
      "source": [
        "df.hist()"
      ],
      "execution_count": 168,
      "outputs": [
        {
          "output_type": "execute_result",
          "data": {
            "text/plain": [
              "array([[<matplotlib.axes._subplots.AxesSubplot object at 0x7f1368a38e90>,\n",
              "        <matplotlib.axes._subplots.AxesSubplot object at 0x7f1368678650>,\n",
              "        <matplotlib.axes._subplots.AxesSubplot object at 0x7f13686accd0>],\n",
              "       [<matplotlib.axes._subplots.AxesSubplot object at 0x7f13685ee390>,\n",
              "        <matplotlib.axes._subplots.AxesSubplot object at 0x7f1368623a10>,\n",
              "        <matplotlib.axes._subplots.AxesSubplot object at 0x7f13685e70d0>],\n",
              "       [<matplotlib.axes._subplots.AxesSubplot object at 0x7f136859a7d0>,\n",
              "        <matplotlib.axes._subplots.AxesSubplot object at 0x7f1368551d90>,\n",
              "        <matplotlib.axes._subplots.AxesSubplot object at 0x7f1368551dd0>]],\n",
              "      dtype=object)"
            ]
          },
          "metadata": {},
          "execution_count": 168
        },
        {
          "output_type": "display_data",
          "data": {
            "image/png": "[encoded data removed]",
            "text/plain": [
              "<Figure size 432x288 with 9 Axes>"
            ]
          },
          "metadata": {
            "needs_background": "light"
          }
        }
      ]
    },
    {
      "cell_type": "markdown",
      "metadata": {
        "id": "NIzOZapm44Ep"
      },
      "source": [
        "Hacemos una verificación acerca de datos faltantes\n",
        "\n",
        "\n"
      ]
    },
    {
      "cell_type": "code",
      "metadata": {
        "colab": {
          "base_uri": "https://localhost:8080/"
        },
        "id": "crGXRMHy_1rN",
        "outputId": "c3451352-18a6-4116-a17a-ae98f83140c8"
      },
      "source": [
        "df.isna().sum()"
      ],
      "execution_count": 169,
      "outputs": [
        {
          "output_type": "execute_result",
          "data": {
            "text/plain": [
              "long_hair                    0\n",
              "forehead_width_cm            0\n",
              "forehead_height_cm           0\n",
              "nose_wide                    0\n",
              "nose_long                    0\n",
              "lips_thin                    0\n",
              "distance_nose_to_lip_long    0\n",
              "gender                       0\n",
              "dtype: int64"
            ]
          },
          "metadata": {},
          "execution_count": 169
        }
      ]
    },
    {
      "cell_type": "markdown",
      "metadata": {
        "id": "Fs_alZYp5F8V"
      },
      "source": [
        "Graficamos un histograma de algunos datos binarios con los datos reales observamos que existe una gran diferencia sobre el rango de estos atributos"
      ]
    },
    {
      "cell_type": "code",
      "metadata": {
        "colab": {
          "base_uri": "https://localhost:8080/",
          "height": 297
        },
        "id": "ITl1lmJgLyEA",
        "outputId": "2b41b318-a354-4b34-fabc-61477409efd5"
      },
      "source": [
        "sns.kdeplot(df['forehead_height_cm'])\n",
        "sns.kdeplot(df['forehead_width_cm'])\n",
        "sns.kdeplot(df['long_hair'])\n",
        "sns.kdeplot(df['nose_wide'])"
      ],
      "execution_count": 170,
      "outputs": [
        {
          "output_type": "execute_result",
          "data": {
            "text/plain": [
              "<matplotlib.axes._subplots.AxesSubplot at 0x7f13686c5ad0>"
            ]
          },
          "metadata": {},
          "execution_count": 170
        },
        {
          "output_type": "display_data",
          "data": {
            "image/png": "[encoded data removed]",
            "text/plain": [
              "<Figure size 432x288 with 1 Axes>"
            ]
          },
          "metadata": {
            "needs_background": "light"
          }
        }
      ]
    },
    {
      "cell_type": "code",
      "metadata": {
        "colab": {
          "base_uri": "https://localhost:8080/",
          "height": 300
        },
        "id": "8bq9-fA4__Sn",
        "outputId": "8c697705-b606-443e-91e2-accf712d4e60"
      },
      "source": [
        "df.describe()"
      ],
      "execution_count": 171,
      "outputs": [
        {
          "output_type": "execute_result",
          "data": {
            "text/html": [
              "<div>\n",
              "<style scoped>\n",
              "    .dataframe tbody tr th:only-of-type {\n",
              "        vertical-align: middle;\n",
              "    }\n",
              "\n",
              "    .dataframe tbody tr th {\n",
              "        vertical-align: top;\n",
              "    }\n",
              "\n",
              "    .dataframe thead th {\n",
              "        text-align: right;\n",
              "    }\n",
              "</style>\n",
              "<table border=\"1\" class=\"dataframe\">\n",
              "  <thead>\n",
              "    <tr style=\"text-align: right;\">\n",
              "      <th></th>\n",
              "      <th>long_hair</th>\n",
              "      <th>forehead_width_cm</th>\n",
              "      <th>forehead_height_cm</th>\n",
              "      <th>nose_wide</th>\n",
              "      <th>nose_long</th>\n",
              "      <th>lips_thin</th>\n",
              "      <th>distance_nose_to_lip_long</th>\n",
              "    </tr>\n",
              "  </thead>\n",
              "  <tbody>\n",
              "    <tr>\n",
              "      <th>count</th>\n",
              "      <td>5001.000000</td>\n",
              "      <td>5001.000000</td>\n",
              "      <td>5001.000000</td>\n",
              "      <td>5001.000000</td>\n",
              "      <td>5001.000000</td>\n",
              "      <td>5001.000000</td>\n",
              "      <td>5001.000000</td>\n",
              "    </tr>\n",
              "    <tr>\n",
              "      <th>mean</th>\n",
              "      <td>0.869626</td>\n",
              "      <td>13.181484</td>\n",
              "      <td>5.946311</td>\n",
              "      <td>0.493901</td>\n",
              "      <td>0.507898</td>\n",
              "      <td>0.493101</td>\n",
              "      <td>0.498900</td>\n",
              "    </tr>\n",
              "    <tr>\n",
              "      <th>std</th>\n",
              "      <td>0.336748</td>\n",
              "      <td>1.107128</td>\n",
              "      <td>0.541268</td>\n",
              "      <td>0.500013</td>\n",
              "      <td>0.499988</td>\n",
              "      <td>0.500002</td>\n",
              "      <td>0.500049</td>\n",
              "    </tr>\n",
              "    <tr>\n",
              "      <th>min</th>\n",
              "      <td>0.000000</td>\n",
              "      <td>11.400000</td>\n",
              "      <td>5.100000</td>\n",
              "      <td>0.000000</td>\n",
              "      <td>0.000000</td>\n",
              "      <td>0.000000</td>\n",
              "      <td>0.000000</td>\n",
              "    </tr>\n",
              "    <tr>\n",
              "      <th>25%</th>\n",
              "      <td>1.000000</td>\n",
              "      <td>12.200000</td>\n",
              "      <td>5.500000</td>\n",
              "      <td>0.000000</td>\n",
              "      <td>0.000000</td>\n",
              "      <td>0.000000</td>\n",
              "      <td>0.000000</td>\n",
              "    </tr>\n",
              "    <tr>\n",
              "      <th>50%</th>\n",
              "      <td>1.000000</td>\n",
              "      <td>13.100000</td>\n",
              "      <td>5.900000</td>\n",
              "      <td>0.000000</td>\n",
              "      <td>1.000000</td>\n",
              "      <td>0.000000</td>\n",
              "      <td>0.000000</td>\n",
              "    </tr>\n",
              "    <tr>\n",
              "      <th>75%</th>\n",
              "      <td>1.000000</td>\n",
              "      <td>14.000000</td>\n",
              "      <td>6.400000</td>\n",
              "      <td>1.000000</td>\n",
              "      <td>1.000000</td>\n",
              "      <td>1.000000</td>\n",
              "      <td>1.000000</td>\n",
              "    </tr>\n",
              "    <tr>\n",
              "      <th>max</th>\n",
              "      <td>1.000000</td>\n",
              "      <td>15.500000</td>\n",
              "      <td>7.100000</td>\n",
              "      <td>1.000000</td>\n",
              "      <td>1.000000</td>\n",
              "      <td>1.000000</td>\n",
              "      <td>1.000000</td>\n",
              "    </tr>\n",
              "  </tbody>\n",
              "</table>\n",
              "</div>"
            ],
            "text/plain": [
              "         long_hair  forehead_width_cm  ...    lips_thin  distance_nose_to_lip_long\n",
              "count  5001.000000        5001.000000  ...  5001.000000                5001.000000\n",
              "mean      0.869626          13.181484  ...     0.493101                   0.498900\n",
              "std       0.336748           1.107128  ...     0.500002                   0.500049\n",
              "min       0.000000          11.400000  ...     0.000000                   0.000000\n",
              "25%       1.000000          12.200000  ...     0.000000                   0.000000\n",
              "50%       1.000000          13.100000  ...     0.000000                   0.000000\n",
              "75%       1.000000          14.000000  ...     1.000000                   1.000000\n",
              "max       1.000000          15.500000  ...     1.000000                   1.000000\n",
              "\n",
              "[8 rows x 7 columns]"
            ]
          },
          "metadata": {},
          "execution_count": 171
        }
      ]
    },
    {
      "cell_type": "markdown",
      "metadata": {
        "id": "APx3GtTN9LY8"
      },
      "source": [
        "Mapeamos los datos para 1 y 0 respecto a las muestras con etiquetas masculinas y femeninas"
      ]
    },
    {
      "cell_type": "code",
      "metadata": {
        "id": "C9rdnOklduTQ"
      },
      "source": [
        "df['gender']=df['gender'].map({'Female': 1, 'Male': 0})"
      ],
      "execution_count": 172,
      "outputs": []
    },
    {
      "cell_type": "markdown",
      "metadata": {
        "id": "1nhonUJm9YLm"
      },
      "source": [
        "Normalizamos los datos para las columnas de numeros reales con el propósito de mantener todos los datos entre un rango de 0 a 1 y lograr mejores resultados"
      ]
    },
    {
      "cell_type": "code",
      "metadata": {
        "id": "a9Qut8n6A2Yr"
      },
      "source": [
        "scaler = preprocessing.MinMaxScaler()\n",
        "df[['forehead_height_cm','forehead_width_cm']] = scaler.fit_transform(df[['forehead_height_cm','forehead_width_cm']])"
      ],
      "execution_count": 173,
      "outputs": []
    },
    {
      "cell_type": "code",
      "metadata": {
        "colab": {
          "base_uri": "https://localhost:8080/",
          "height": 300
        },
        "id": "3dVCk_ABL78T",
        "outputId": "b4e42ea3-8447-4dba-ad6d-c860c54fe991"
      },
      "source": [
        "df.describe()"
      ],
      "execution_count": 174,
      "outputs": [
        {
          "output_type": "execute_result",
          "data": {
            "text/html": [
              "<div>\n",
              "<style scoped>\n",
              "    .dataframe tbody tr th:only-of-type {\n",
              "        vertical-align: middle;\n",
              "    }\n",
              "\n",
              "    .dataframe tbody tr th {\n",
              "        vertical-align: top;\n",
              "    }\n",
              "\n",
              "    .dataframe thead th {\n",
              "        text-align: right;\n",
              "    }\n",
              "</style>\n",
              "<table border=\"1\" class=\"dataframe\">\n",
              "  <thead>\n",
              "    <tr style=\"text-align: right;\">\n",
              "      <th></th>\n",
              "      <th>long_hair</th>\n",
              "      <th>forehead_width_cm</th>\n",
              "      <th>forehead_height_cm</th>\n",
              "      <th>nose_wide</th>\n",
              "      <th>nose_long</th>\n",
              "      <th>lips_thin</th>\n",
              "      <th>distance_nose_to_lip_long</th>\n",
              "      <th>gender</th>\n",
              "    </tr>\n",
              "  </thead>\n",
              "  <tbody>\n",
              "    <tr>\n",
              "      <th>count</th>\n",
              "      <td>5001.000000</td>\n",
              "      <td>5001.000000</td>\n",
              "      <td>5001.000000</td>\n",
              "      <td>5001.000000</td>\n",
              "      <td>5001.000000</td>\n",
              "      <td>5001.000000</td>\n",
              "      <td>5001.000000</td>\n",
              "      <td>5001.00000</td>\n",
              "    </tr>\n",
              "    <tr>\n",
              "      <th>mean</th>\n",
              "      <td>0.869626</td>\n",
              "      <td>0.434508</td>\n",
              "      <td>0.423155</td>\n",
              "      <td>0.493901</td>\n",
              "      <td>0.507898</td>\n",
              "      <td>0.493101</td>\n",
              "      <td>0.498900</td>\n",
              "      <td>0.50010</td>\n",
              "    </tr>\n",
              "    <tr>\n",
              "      <th>std</th>\n",
              "      <td>0.336748</td>\n",
              "      <td>0.270031</td>\n",
              "      <td>0.270634</td>\n",
              "      <td>0.500013</td>\n",
              "      <td>0.499988</td>\n",
              "      <td>0.500002</td>\n",
              "      <td>0.500049</td>\n",
              "      <td>0.50005</td>\n",
              "    </tr>\n",
              "    <tr>\n",
              "      <th>min</th>\n",
              "      <td>0.000000</td>\n",
              "      <td>0.000000</td>\n",
              "      <td>0.000000</td>\n",
              "      <td>0.000000</td>\n",
              "      <td>0.000000</td>\n",
              "      <td>0.000000</td>\n",
              "      <td>0.000000</td>\n",
              "      <td>0.00000</td>\n",
              "    </tr>\n",
              "    <tr>\n",
              "      <th>25%</th>\n",
              "      <td>1.000000</td>\n",
              "      <td>0.195122</td>\n",
              "      <td>0.200000</td>\n",
              "      <td>0.000000</td>\n",
              "      <td>0.000000</td>\n",
              "      <td>0.000000</td>\n",
              "      <td>0.000000</td>\n",
              "      <td>0.00000</td>\n",
              "    </tr>\n",
              "    <tr>\n",
              "      <th>50%</th>\n",
              "      <td>1.000000</td>\n",
              "      <td>0.414634</td>\n",
              "      <td>0.400000</td>\n",
              "      <td>0.000000</td>\n",
              "      <td>1.000000</td>\n",
              "      <td>0.000000</td>\n",
              "      <td>0.000000</td>\n",
              "      <td>1.00000</td>\n",
              "    </tr>\n",
              "    <tr>\n",
              "      <th>75%</th>\n",
              "      <td>1.000000</td>\n",
              "      <td>0.634146</td>\n",
              "      <td>0.650000</td>\n",
              "      <td>1.000000</td>\n",
              "      <td>1.000000</td>\n",
              "      <td>1.000000</td>\n",
              "      <td>1.000000</td>\n",
              "      <td>1.00000</td>\n",
              "    </tr>\n",
              "    <tr>\n",
              "      <th>max</th>\n",
              "      <td>1.000000</td>\n",
              "      <td>1.000000</td>\n",
              "      <td>1.000000</td>\n",
              "      <td>1.000000</td>\n",
              "      <td>1.000000</td>\n",
              "      <td>1.000000</td>\n",
              "      <td>1.000000</td>\n",
              "      <td>1.00000</td>\n",
              "    </tr>\n",
              "  </tbody>\n",
              "</table>\n",
              "</div>"
            ],
            "text/plain": [
              "         long_hair  forehead_width_cm  ...  distance_nose_to_lip_long      gender\n",
              "count  5001.000000        5001.000000  ...                5001.000000  5001.00000\n",
              "mean      0.869626           0.434508  ...                   0.498900     0.50010\n",
              "std       0.336748           0.270031  ...                   0.500049     0.50005\n",
              "min       0.000000           0.000000  ...                   0.000000     0.00000\n",
              "25%       1.000000           0.195122  ...                   0.000000     0.00000\n",
              "50%       1.000000           0.414634  ...                   0.000000     1.00000\n",
              "75%       1.000000           0.634146  ...                   1.000000     1.00000\n",
              "max       1.000000           1.000000  ...                   1.000000     1.00000\n",
              "\n",
              "[8 rows x 8 columns]"
            ]
          },
          "metadata": {},
          "execution_count": 174
        }
      ]
    },
    {
      "cell_type": "markdown",
      "metadata": {
        "id": "0F0Sz1Va_S4z"
      },
      "source": [
        "Se divide el dataframe en muestras etiquetadas y muestras con características"
      ]
    },
    {
      "cell_type": "code",
      "metadata": {
        "id": "Os18Yn0dOOHc"
      },
      "source": [
        "dfX = df.iloc [:,:-1]\n",
        "dfY = df.iloc [:,-1]"
      ],
      "execution_count": 175,
      "outputs": []
    },
    {
      "cell_type": "markdown",
      "metadata": {
        "id": "8SPdhtZE_bgm"
      },
      "source": [
        "Se dividen los datos de una forma aleatoria el dataset en 70 % para entrenamiento, 20 % para validación y 10 % para testing"
      ]
    },
    {
      "cell_type": "code",
      "metadata": {
        "id": "xRlO4gpWN1pN"
      },
      "source": [
        "Xtrain, Xtest, Ytrain, Ytest = train_test_split(dfX, dfY, test_size=0.3)\n",
        "Xvalidate, Xtest, Yvalidate, Ytest = train_test_split(Xtest, Ytest, test_size=0.33)"
      ],
      "execution_count": 176,
      "outputs": []
    },
    {
      "cell_type": "markdown",
      "metadata": {
        "id": "8EWQL4R5FQtV"
      },
      "source": [
        "También escribimos los datos para nuestra comodidad al momento de probar los diferentes modelos"
      ]
    },
    {
      "cell_type": "code",
      "metadata": {
        "id": "hkWTpG3gOG-H"
      },
      "source": [
        "Xtrain.to_csv('xtrain.csv', index = False, header=True)\n",
        "Ytrain.to_csv('ytrain.csv', index = False, header=True)\n",
        "Xtest.to_csv('xtest.csv', index = False, header=True)\n",
        "Ytest.to_csv('ytest.csv', index = False, header=True)\n",
        "Xvalidate.to_csv('xvalidate.csv', index = False, header=True)\n",
        "Yvalidate.to_csv('yvalidate.csv', index = False, header=True)"
      ],
      "execution_count": 177,
      "outputs": []
    },
    {
      "cell_type": "markdown",
      "metadata": {
        "id": "r4Ljct1TFcG7"
      },
      "source": [
        "Este paso nos sirve para poder convertir los dataframes en pandas-arrays "
      ]
    },
    {
      "cell_type": "code",
      "metadata": {
        "id": "7fGdp7TiyaHj"
      },
      "source": [
        "Xtrain = Xtrain.values\n",
        "Ytrain = Ytrain.values\n",
        "Xtest = Xtest.values\n",
        "Ytest = Ytest.values\n",
        "Xvalidate = Xvalidate.values\n",
        "Yvalidate = Yvalidate.values"
      ],
      "execution_count": 178,
      "outputs": []
    },
    {
      "cell_type": "code",
      "metadata": {
        "id": "w0HoDZEoFXEc"
      },
      "source": [
        "Ytrain = Ytrain.reshape(Xtrain.shape[0], 1)\n",
        "Ytest = Ytest.reshape(Xtest.shape[0],1)\n",
        "Yvalidate = Yvalidate.reshape(Xvalidate.shape[0],1)"
      ],
      "execution_count": 179,
      "outputs": []
    },
    {
      "cell_type": "markdown",
      "metadata": {
        "id": "dXEb27G7Gqhp"
      },
      "source": [
        "# **Regresión Logística**\n",
        "\n",
        "Despues de haber pre procesado nuestros datos empezamos resolviendo el modelo de regresión logística. Para esto definimos nuestra predicción a través de la función sigmoide. El objetivo es poder reducir el error de predicción. Para esto se define nuestra función costo de error de la siguiente forma:"
      ]
    },
    {
      "cell_type": "markdown",
      "metadata": {
        "id": "HPE1lO8kJjVr"
      },
      "source": [
        "![Screenshot_2021-10-24_21-11-14.png](data:image/png;base64,iVBORw0KGgoAAAANSUhEUgAAA7sAAABdCAIAAADrDeajAAAAA3NCSVQICAjb4U/gAAAgAElEQVR4nO2dd1wU1/bA79KWFRUBRVFQgoAxKCYqYMPesKB5lhhb0MSI+kw06lOMihERWzQxtmCJeWpUxG4UG6IgImIBwSAgURcVVIoIwrLszu+P+3n3N9kyzM62WfZ8/1pm7tw5czn3zJlbzhFQFIUAAAAAAAAAAFCDhbEFAAAAAAAAAABeAx4zAAAAAAAAADABHjMAAAAAAAAAMAEeMwAAAAAAAAAwAR4zAAAAAAAAADABHjMAAAAAAAAAMAEeMwAAAAAAAAAwAR4zAAAAAAAAADABHjMAAAAAAAAAMAEeMwAAAAAAAAAwAR4zAAAAAAAAADBhZWwBAAD4B6dPnxaLxcrHW7RoMWbMGMPLY56cOHHCycmpd+/exhaEFdevXy8pKRk9erSxBdENptX4Jk090xxugL4ZEi1VLisrKyEhQeWpkJAQOzs77pKxgQIAgE/0799fZVcNCAgwtmhmgVwuX7hwoaWl5cWLF40tC1tOnjxpYWGxZMkSuVxubFm0whQb36SpN5rDDdA3w6Olym3fvl2dNysWi3UurQIwxgwAfGTRokVOTk70I61atTKWMGbF3Llzt23b9vPPPw8aNMjYsrBl1KhRGzZsWLBgQXV19ebNm40tDndMsfFNmnqjOdwAfTM8Wqpc9+7d165dq3Bwx44dT58+1ZGAjOjbJQcAQCPwGHNOTo6xBTFHVq5ciRCaMWOGsQXhwuzZsxFCa9asMbYgHDHpxjdpTF1zuAH6ZkR0q3I9evRABhljBo8ZAPgFeMzG4uDBgwihwMBAqVRqbFm4IJVKe/ToIRAIjhw5YmxZNMbUG9+kMWnN4Qbom3HRrcoZzGMWUBRliKFsAADYMWDAgPj4+JycHC8vL2PLYkZkZmZ269YNIXT//n1PT09ji8OR/Pz8Tp06IYRu3br10UcfGVscttSPxjdpTFRzuAH6xgd0qHI9e/ZMTk4Wi8Wurq46kk41EF0OAABzp7q6evz48ZWVlevXrzfAG/TatWunTp1iUzI+Pp5lSYyHh0dERERFRcXnn39eU1PDVUCDYuDGB1RiiprDDdA3jWBvrJCG9sokVU7fg9gAAGgErMowPEuWLEEIffTRRwaYoj1//nzr1q2fPHnCpvCbN2+8vb2jo6PZ1y+VSn18fBBCK1eu5CqjQTFk4wMMmJzmcAP0jT0aGStKc3ulK5WDdcwAr6muroZwPHoCPGYDk56ebmVlhRAygEqnpaU1bNjw2rVr6gpUVVVlZGTQ4y49fPiwQYMGZ86cYX+Xs2fPIoRsbGwePnyolbj6x5CND9SJCWkON0Df2MPBWFGa2yudqBx4zABPqampOXTokK+vr7u7u7FlqZ+Ax2xgcGCpwMBAfd/o/fv37du3Dw0NVVegurra19cXIbRp0yb68cjISEdHx8LCQvb36t69O0JoxIgR3MU1CAZrfIAlpqI53AB9YwlnY0Vpbq+0VznwmAHeMWfOHF9fX5FIZGFhgRACj1lPGNhjTkhIOHnyJJuSV65cYVnShPjzzz/x+rQ///xT3/das2aNSCR68eKFugK5ublYmNjYWPrxiooKZ2fn6dOns7/X8ePHcVXx8fHcJdYzhmz8+oEBeqtJaA43QN/Yw9lYUZrbK+1VDjxmgHds2bJl27ZtiYmJ69atqx8ec3Jy8qpVq2JjY/G8Um1tbVxcXFRU1Nq1axMTE0mx9PT0nTt3RkZGnj171gCZsQzpMet7TS3/CQgIQAj5+Pjo+z9bXl7u6Og4adIk5mKHDh26cOGC8vElS5ZYWlrm5+ezvJ1MJsOxVvr166exrIbCYI1fPzBMbzUJzeEG6BtLtDRWlIb2SnuVA48Z4C8//vhjPfCYExIS3N3d586dixAKDQ198uRJly5dhg4dumrVqqCgIIRQREREVVXVlClTOnfuvGzZsq+//hohNGrUKH1bW4N5zIZZU8tnrl69isc2fvzxR33f67ffftNmcOvBgwcIoWXLlrG/JDIyEj9dcnIyt5vqFUM2fj3AkL2V55rDDdA39mhprCjN7ZWWKgceM8Bf6ofH7OfnFxcXJ5FIEELW1tZeXl7k1VJRUSEQCOzs7AYMGLB69WryEsLBI9PS0vQqmGE8ZkOuqeUto0aNwv/9oqIifd9r8ODBQqGwsrKS2+Vyubxly5Yffvgh+0sKCgosLS0RQp999hm3m+oVQza+qWPg3spzzeEG6Bt7tDRWlOb2SkuVA48Z4C/1wGPOyspycXGRyWRZWVn40/a3334jZ6VSKV6r/fXXX9OvwpN6+l7LaxiP2ZBravnJy5cv8a75oUOH6vtetbW1dnZ2/v7+6gq8f/9+165d69atY/i/jx49GiFUUFDA/r5Yl4RC4Zs3bzSTWM8YsvHrAYbvrbzVHG6AvrFHJ8aK0txeaaNyBvOYrRC/yczMXLt27bp161q1aqWTCufOndu1a9cvvvhCJ7UBumLp0qXFxcUqT1VVVVVXV2tTuYeHx9q1a+lHxGLxvHnzLCwsEhMTEUJdu3YNCQkhZ7Ozs+VyuUgk2rBhAzlYW1ubnZ2NEHJ3d9dGGD7w7t27jRs3/utf/3JxcVFXxtPT89ChQ46OjoMHD6Yft7Ozmz59+oYNG5YtW/bBBx/oX1h98d///re2thYhFBwcrO97PXjwoLKyUl1eq5KSkn79+n3yyScPHz5cuXLlnTt32rdvr1ysQ4cOJ0+eTE1N/fTTT1ned+TIkfHx8RKJ5ODBg9988w33B9A1hmx8U8covZW3msMN0Df26MRYIc3tlWmonL5dcm1ITU21t7efPHmyDuvcv3+/QCCIiorSYZ3mhj7GmOm9zsbGxsPDw9vbu8s/+eSTTzzU0KBBAwYlt7CwePr0qcr7Tpw4ESG0dOlS+sGtW7cipV0IycnJCCFnZ+d6sI7Z8GtqeUjnzp0RQgKBwAAjE7///jtCaNGiRSrPhoSEfP/99xRFLViwACG0bt06lcW2bNnCcFYljx8/xl2gR48eHMTWH4ZsfFPHKL2Vt5rDDdA39ujEWFGa2yttVK7+jDHn5uaWl5dbWVk1atRIZYFWrVoJhULl45mZmUFBQT4+Prt372Z5r4qKiv3791+6dCkzM5OiKHd3908//fTLL7+k1z958uS8vLywsDBbW9t58+ZxeCIAQ1GUDmvbvXt3nz598DCATCbbt29fYGCgRjW8ffu2oKDg0aNH169fT0hISE9PJ6fkcvn+/fu///575auuX7+OEOrTpw/94LVr15QP4uSfQUFBAoFAI8F4yKFDh4RCYd++fbld7uPj07Jly9jY2IiICHVlJBJJenr6GxrOzs786XHPnz+/d+8eQqh9+/aurq7aVFVUVJSenq4wtqdASUkJQqhJkyYqJTl//vzTp0/R/xRPnTz4crFYzF42/D2Zn5+fkpLy8uVLhkFKQ6LDxjcHDNBbldFUc/jc30HfCAYzVkhze8VPY6WIXv1xiUTCPPiHELp06ZLyhaWlpa1bt27UqBHLSDoymWzz5s329vbK9Xfs2FHhy0Mmk/Xp08fCwiIuLk43z2lm4DHm1q1b67ZaukF3c3MrLi7WprbU1NSJEycS79bb21t5bDg/Px8hZG1t/e7dO3JQLpc3b94cIXT16lX6wdatWyOEzp07p41UbND3GLNh1tRu27ZNoSfyaunz9u3bsVRfffWVNvUUFhZ26NDBysrqwIEDDMVWrlyJENq2bZvyqXPnzq1du5aiqMzMTISQnZ0dXRvpnD59GiEUEhKikYRTp07FT7pr1y6NLtQfOml8sVi8fPnyt2/f6lAwHmKsFfCUhprD5/4O+oYxpLGiONkrzsbKYGPMFszurJbI5fL58+cvXrx48eLFc+bMwT4HZuDAgYsXL46KilIYycPMnTv32bNnUVFRbdq0qfMueGHN/Pnz3759KxQKf/rpp/Ly8szMTE9PT4TQgwcPhg4dWllZScpbWFjs2bPHxsZmypQpr1690sWDmiOUTseYEUJhYWFEGcRi8VdffaVNbX5+fgcPHoyLi2vRogVCKCcnJyUlRaHMjRs3EEL+/v4NGzYkB3NycoqKiho0aNCtWzdyMCkp6dmzZ05OTgMHDkQI9erVCw9OmyJ1LlPr1q1bUlJSbGxsp06d/vrrL5XFOnTogBBKTU1Vd5cuXbqsWLFizpw5NjY2+Ejv3r21ll1nkFBTvXr14lxJQUFB7969MzMzBQJBSEjIwYMH1ZV8//49QsjOzk75VFBQ0OLFixFCeDJ07NixdG2kg49ruqa/Z8+e+EdCQoJGF+oPLRu/trZ2z549n3zySURERL034IbprSrRSHP43N9B35DBjRXiZK94aKwU0bdLTufzzz/HN23QoIFEIlFXDCfm8fT0lEqlddZZVFTk4+ODq7WxsaGPCx45coQ85po1axQu/PbbbxFCX375JdenMV/wGLObm5vOaxaLxU5OTuS/tn37du3rfPHihYeHB0Jo1qxZCqdCQ0MRQitXrqQf3LVrF0JoyJAh9INYW2bMmEFRVEZGhpubW21trfayqUTfY8wGXlOLB+wRQuyzbxgAMuX34MEDbjU8ffrU09NTIBCEh4dnZma2adMGf4qrLLxs2TKE0NatW9XVVltbi0ViyHqF1wVhJWRPWloaflJXV1eNLtQfHBr/3r17Fy5ciI6O/uqrr5ydnYmJyM3N1auoRsdYK+AprprDw/4O+mZ4Y0VxslecjVX9jC7XsmVL3ByDBg1SV0Yul3/yySfon9G+1CGRSOhfjQqRyQsKCsgp5X/Ay5cvhUKhhYXF/fv3OT2N+YI9Zj29gE+cOEH+ayKRKCMjQ/s6c3JymjZt6uTkpPCd1rFjR4RQUlIS/SCeGNq4cSP94Pz58xFC0dHRlZWVvXr12r9/v/ZSqUPfHvPmzZsRQpGRkcqnCgoKmjdvXl1dTVFU165dEUIHDx5UWcl///tfhNC///1v5nuRoFf8cdcoisIxTxBC1tbWDJ/uDOTn57u7uwuFwj/++AMfef78eefOnQUCwY4dO5TL4zSZq1evVlfhuXPnEEJt2rSRyWTqyuzbt4/BeVLH+/fvcaBThNDff/+t0bUKvH79eu/evdrUQHFtfLKqUiAQtGvXztQ9GPYYsrcqwEFzeNjfQd+MYqwoTvaKs7GqJ6sy6OTk5Lx48QL/ZtjEcPLkyXv37tnb248fP77OOn/44YekpCT8u127dgoRSRo3bkx+4z1h9LMtWrQIDg6Wy+UbN25k/RDA/0PpelUGZvTo0bNnz8a/q6qqJkyYgCeJtMHLyysqKqq4uBh3dYxUKv3rr7/c3NxwlGXCX3/9JRQKR4wYQT84e/ZsFxeX9evXd+zYMSgoaPLkyVqKZETevn2L1GzsyMjImD9/vlAozMrKSktLs7OzUxeMCV9eUVHBfC+8OwQxdnnDc/v2bfyjXbt2ZBJZI9asWVNeXn7p0iUyb9ayZctr166NGDFiyZIlb968USjv5uaG/tfyKsFDiVOmTLGwsEhISFA5o40vd3Bw0EhUkUjUtm1b/FvTeXkFLly4MH36dC0nprk1fnh4+LZt206fPl1YWHjmzBltBDAtDNlbFeCgOTzs76BvRjFWiJO90qGx0hOGi8dMX5jC0J127NiBEBo3blydWwbT09PXr19P/pw3bx4OUU5Q+JdnZ2fTPxYRQiEhIUePHj1y5MiGDRvwaleAPXrymBFCGzduvH79Ot5b8PDhw/nz5//6669a1hkSErJjx44DBw7gTTAIIWtr6/v37zdv3lxBbY4dO1ZTU0P6LcbT0zMvLy8jI8PFxYXN2no+w7xMDWcI19WaWvIG1TTyiV55+PAh/qFgENizdevWsLAwvNqH0LBhwxMnTjx69Khp06YK5b29vRFCRUVFKmurqanBM5h4fmPz5s2fffaZcjF8+ccff6yptO3atcvJyUG0B+eGXC7X5nIMt8anR11geJfXPwzZW5XRVHN42N9B34xirBBXe6UrY6UnDOcxk77UoEEDPIWkzMuXL+Pj4xFCw4cPr7PCJUuW4GBkCCGRSKQ87Pfs2TP6n8rfUv379xeJRFVVVceOHZszZw6LhzBr8vLySkpKysvL8Ya5t2/fHj58GK+O6tChg8oQgdwQiUSHDx/29/fHb4vo6Oh+/fpNmDBBmzqtrKzu3LmjcJCsgKeDv7CVUdgLaLrggRaGASeZTHbgwAGEEEOin3fv3iGE1IWMJJD9kSo3+BoLYovpe5E1QigUKryBMJaWlio3afn6+opEIvwRqIxAIJDL5Q4ODl5eXnFxcU+fPp0xY4ZysQcPHggEAn9/f02lJY/JK4+Zc+ObFYbsrcpoqjk87O+gb0YxVoirvdKVsdIThluVQTzmXr16qZsciYmJkclkVlZW/fr1Y64tJSUlLi6O/Dlo0CDlz2uFjcM1NTUKBWxtbfEy6OPHj7N4AnNn3rx5AQEBo0ePvnr1qoODg42NzezZs/39/bt27fr8+XPd3svHxwevlsbMnj0bx4AEtAe/OMvKytQVuHjx4suXL9u0acPw2istLUVqJosJT548wf81Z2dnPG7BE4hl0FUm0TqxtrYODAzMzMxU6fpYW1svXLiwrKysd+/eixcvPnHihLKFpCgqNTW1Q4cO9K2xLCEfgXzwmA3f+CaNwXqrSjTSHH72d9A3TdHeWCEt7JWujJWeMJDHnJeXR5wqhiUZly5dQgi1b99eZWRlOgrRH1Wu37p16xb9T5V14g+gGzduSCQS5jsCZ8+epSiqoqKihAYOcqzyE1ZLQkNDyXRPaWnp+PHjpVKpzu9i0pSXl8fHx6elpVVVVbG/ymBraslHcp8+fdikfXn79m1SUtLly5dTUlLY90epVJqVlXXp0iWyxadOyJ5gjdIZ1NTU3Lp168aNGwovkurq6sTExIsXLzLH6h83blxNTQ0JdKVAZGRkdnZ2VFRUWlqaymzG6enpRUVFkyZNYi8wgTwmfTM0B3TiMXNr/HoAz3urSjTSHH72d/PUN+MaK6SFvdKVsdIX+t5aiMERuzDJyckqy8jlcuzUfv7558y14bjL9KdQuUfyww8/pJe5e/eucpnDhw/jszdv3uTwXIBeKS0tpS8aXr58ubElMgQsY2UcPXqUDBq5uromJiYql3n06FH//v379u1bWFhIDuIIPlOnTlVZrUQisbW1JQIEBwerDDO0dOlSVFc+l2nTpmHxfvnlF4Zicrn8+PHj/fv3t7D4/w/4hg0bfvfddwzh8SmKKisrCwsLI9GsEEJBQUElJSWpqakRERF5eXnqriLlr1y5wlA/nZKSEj8/P3yVvb09DhkhlUrDw8PJDmOBQBAcHPz8+XOVNVRWVjo5OU2YMIHlHRVYsGCBSCR68eIFh2vPnz9PHrmyspKbABRF4fSrRUVFnGvg1vgK4GWOGFOJXcD/3qoSjTSHh/3dPPXN6MaK0sJecTNW9S26HFlkzBCJGSdgQwitWrWKuTa8bIvQoUMH5TKvX7+mf+ZaWVnhKDwKkFzKKjPcAEbn+vXrJNyMhYXF5cuXjS2R3mHjMR88eFAgECxcuDAnJwcnVXF1dVUOEU02R6emppKDNTU1IpGoc+fOKmuuqamxsbFxcHCgKOr8+fOdOnVS2WFHjhwpEAjevHnDICTZPZmenq6uTG5uLjZ2TZo0Wb169YMHD8Ri8fHjx/G1vr6+6lI/XrlyBccEHTRoUEpKyrNnz6Kjo+3s7MiS+smTJ6u8kB4zh31kyTFjxrRr1+7evXv/+c9/8Pvm7NmzvXv3tre3X7du3dOnT9PT0/E/wt3dXZ1PGRERIRQKnz17xvKmhPLycicnp/nz52t6IYa+61ybAHN44EMbj5lb4ytgch6MSfRWlWikOTzs7+apb8Y1VpR29oqbsapvHjNZm6KQGIIOWZesLrA2YeLEiXSP2dra2kEJemg5hJCPj4/Kql6/fo0LaBrllKKoPXv2LNYFdPsIKBMeHk7+j61atXr9+rWxJdIvdXrMz58/b9y4MUm+M3bsWNw4jx49oheTy+XNmjVDCNnZ2dXU1NBPDR482MbGRt2IztKlSwUCQWBgoK+vr8o0BDiReMeOHRmegsz6OTo6qgvbmZaWhmeKO3XqpDDakZaWhr94J06cqHxhbGwsXjw3YcIEep6jn3/+majK+vXrVd6UxKNECD19+pThEQh3795FCMXFxVE0MyUQCNq2bUt/gxYUFOCvu2nTpqmsp6qqytvbW91ZBlasWOHq6lpaWqrphZi8vDzyyLdu3eJWCaULj5lD4ytjWh6MSfRWdbDXHH72dzPUN6MbK0o7e8XNWNUrj5neBAxphw4dOoTL1Dl5xGEJv7oc93K5HHfFsWPHavpcAwYMUPbUObBp0yZNb21WyGQy+k7QoKAgvHi6vlKnx/z99987OjriN6hMJiOfowpf5Pfu3cPH+/fvr1ADdn1Onz6t7haPHj1KSkpSeHMr1Lx27VqGp9i/fz++++jRo1UWyMnJwfPUTZs2VemE4X3cFhYWT548oR9PS0sTiUQIoY8//lhBwsrKShIQQN3qr4sXLxJdUjegpUBoaKizszMeFNyzZw++1snJSfn1iRfh2draqvNv7t+/b2dnd+HCBTb3xdy7d8/Ozo45vRYzJBA+QighIYFzPdp7zBwaXxnT8mBMoreqg73m8LO/m6G+GddYUVrbK27Gql55zHj1G+b27dvqiu3cuZP5VYdRiBknEAgOHDgQQ+OPP/749ddfHR0d6cXOnDmjrkIcj7Bv375aPSSgTxSyZ2/ZssXYEukRZo+5urra2dmZZPwm4ZyUx5A2bNiAT61YsULhlAHW1H755Zf47ps3b1Y+K5FIunTpggvs27dPZQ1Dhw7FBXbv3k0OSqVSEhFJ2YeQSCQ4jjvD6i96PoKysrI6HpWi5HJ5y5YtyRjhlClT8LUqXRDiD6lcqIq5ePGiq6urumXWChQWFnp4eJBkXdygh1bFg0/c0N5j1rTxVUL3YPSXGlMnmEpvVQd7zeFnfzc3fTOusaJ0Ya+4GSuDecyGiMdMttDa29vjDNgqKS8vxz+YI/sq7JD19vZW3o9ZWFgYGhpK/mzcuPGgQYPUVYh3TmifWA7QH66urtHR0WPGjMF/Llq0qFevXgy6VI959eqVr6/vzJkz8Z9//PEH/qEcr/ry5cv4R8+ePRVONWjQYN68eatXrxaLxeriT6vj3bt3+/btCw0NxcsK1UH2WauMjbN9+3YcHrt169Y4Er4y1P9S5Dx58oQc3LNnD4465OTkNGzYMIVLbt26hTuyv7+/uhCW9F35ZIk8A+/evfPx8QkJCcF/kkxM+MOGjkwmI/nwiouL1VU4aNCgmJiYrKwshSw5KsnOzt66dStOVMEZeo4e4wYF0rTxTR1T6a3qYK85/Ozv5qZvxjVWSBf2ij/GSiWG8JjJh3Xfvn0ZtJalx0w2CGJUJpXA6zrInyNGjGCoE3vMlZWVDDflFUOGDCGZP7nxww8/zJ07V1fyGIZ//etfM2fOxMn/JBJJSEgI2bVpVri5ueEgjAghqVR69OhRhJBAIFBIvCSRSBITExFClpaW3bt3V65n4cKF+/fvDw8P37t3r0YCbNy4USQSrVixgqGMWCzG/dTe3r5jx44KZ6uqqtatW4d/f/bZZ+oCUWVlZeEf9KiCZCZq2LBhysaEvLYZUo7R47KzeYk2btyYzO3m5eXh9Zr29vadO3dWKJmRkUFMPHMkL5X/EZXoJBMEy5dQnz59Hjx4wFAPvrZdu3bMscPCwsIWLVqk8pSmjV8nFKfMowYzoSbRWxlgqTm87e880TdkKJUzrrFCurBX5u4x5+fnk9wTzHlJiELLZDKGYgqx3FX+OxUSwX/77bcMFeLb4ZVSJsHUqVO1HF5lUOvJkyfHxMRoU7kCAwYMoMeL0Yaffvrp5s2bGRkZCKFPP/1UJ3WaNHFxcXh4wN/fX2EMICUlBY++fPzxxypzfdna2sbExPTs2XPChAmDBw9mecf79+//+OOPZ86cYc6GQN5kffr0UX5RxcfHFxYW4t/jxo1TWYNYLCbxOPGOKIRQZmbm/fv38W/lASf0zzRJ6mSjx7TS9P1H6u/du7fyc6WkpJDfvEqlTo+jzOA3TJ8+XSHrkwIZGRnnz5+fMmUKngpXx4ABA9Sd0qbxVcKtEr2aUHXwtrcywFJzeNvfeaJvyBgqV7+NlbHQu8dM/m1I1dQAHeKzMn9YKAwGK2thRUUF+axHCA0dOpQ5TyOOJ19nzhT+wC2LAUuaNWvm7u6uwwrp4TO1xNbWdsaMGXPnzp0wYQI9gIbZEhsbi3+MHz9e4RQb37FTp04nTpyYPn16QkICm0m3oqKiMWPG7Nq1q86UnPQ3qPLZCxcu4B+NGzdWHvzA4CE3DPkqJjmJBAKBslsmkUhu3ryJ1A/UYejTTcwf58qQWU6Vz0XOuru78+olVFtbS37jKTWVMKRZxuzevfv8+fPLli1zdnbmJok2ja8Sbh6MXk2oOnjbWxlgqTm87e880TdkDJWr38bKWOjGYy4uLo6Pj2/UqNGQIUMU5lyILXB2du7QoQNDJSTNNXNKJDs7O/qfyv/smJgYule9fPlyZuHx7RSi0bHh6tWrubm5ml6lzMCBA/WRM48bmzdv3rx5s7GlUE1WVtb333/ftWvXPXv2sMkpxZ7q6urc3NwOHTrotlqEkEQiuX79OsMyem0gVk953Rg5pTIHGEFPa2qZjTWZdOrevbu6UYTTp0/jHx07dsS7OhBCJIKVt7c3GYgi3Lx5E/dldQN1GPpLlG6d2UCeS3kWWC6XX7lyBf8ePXq0RtXqG7qvwLzmTd9o0/gq0cnAoWHgbW9lgKXm8La/g74hMFY6RQcec25ubt++fXFMkE2bNs2fP59+lnjMffv2ZXZHSMw4+mZJZei5LoVCocJoB0VRO3bsIH9OnDiRdD+VSCQSvH6aw7zV3LlzydIrbVi2bFlERIT29dRvCtaZoJMAABT/SURBVAsLhw0b5uDgcPbsWeZJYU2RSCQBAQEZGRnK2qsNUqn02LFjUVFR5eXlf//9t66qJRQUFOC4MU5OTgrpLSUSCZ50s7CwYEhKj9H5mtonT57gvTv29vYff/wxQginVN2yZQueySG7bL29vVXWUF1dTVbyLFiwgBwn39Iqv72JqWFYxIz+OW6hUd71vLw8PHFsZ2enPLV18+ZNPOdua2u7cOFC9tUaAPpjGvclxLnxTR3e9lZm2GgOn/u72eobGCs9oQOPeeXKlSSEHj1fC0Lozp07ZN/ryJEjmeshiwFevnzJUCwgIID8Vp5nOXr0KE4rihByc3OjRzhXycuXL/FXY4sWLZhLKnP79u3q6mpNr1KGw/C2uVFVVfXpp5+WlpYmJSXpcJkHRiwW47XRrVu31kmF//73vxMTE3NzcyUSiVwu1+0qF0JJSQn+0bFjR4Vv0dTUVDL6ohBm0QCQsY1evXrhIaXdu3dfvHiR6DmZF8KBHZXZtm0b/o7t0aMHCZCEaF/LyhdStPSqzNPQ9PVXZWVl7BcYkOcKCAiwtrZWOIv3pCKEZs2axSFgvF4pLS0lvzkvadUJnBtfHaYy5sfb3soMG83hc383W30DY6UndOAxEw8VKc03rV69Gv/w8vJSXrylgKenp6WlpUwmI5M46or5+fnhbae1tbV5eXleXl741LNnz8gmv0aNGh07dkxdFyWQ6M7MK0ZUIhKJTGi/oOlCUdSXX36Zmpp64sQJX19fndfv6el56NAhR0dH9ltqmGnXrt1HH33k6+ubnJy8ePFindTJgPLUzalTp/AP5p0DeoLkYsCjXBRFxcbGDhs2jMg5bNgwHFpfIbY6Ji8vD9uN5s2bHz58mL53hzyOwvZfhFB4eDhe9Whpack8tU3/NmYIq6QMeQkp73nIyso6cuQIQsjPz2/NmjXs6zQMxF1DnIYGdAjnxleHqXgwBL71VmbYaA6f+7vZ6hsYK32hfUhnHJm8adOma9asoSdjI98xIpHo5s2bbKrC/tCgQYOYi5GdBAihb775Bh/866+/2rdvjw/a29vfuHGDzR1/+eUXfAnPI5ObM8uWLUNqAuPznB9//BEh5O7urtFVdeb8w1RVVeGsLq1bt6b3u5iYGPLWqTN9pj4gS4xiYmIoikpOTkb/TCFUU1ODu6qzs7NCJtX8/Hw8Z92iRYsHDx4oV47THDRp0oRcKJFI6DO5fn5+zOJJpVLSPgyJjZQhgzG2trb0HL9lZWV43tPNze3Zs2fsKzQYJ06cwJJbWVmpy2DMBu0zmHBufDrERUMIsXyzGB3e9lZm2GgOn/u72eqbuRkrU8r5hzeKTZgwobKyEh+RyWQbNmzAcwH29vbssyziSO/Ozs51lqSHShg+fPiwYcPIcG+3bt0eP37M8o4zZsxACLm6urIsDxiYI0eOCAQCksTItNCrx0xRVGRkJNb5yMjIsrKyx48fh4WFkXiW1tbW6tKf6hWy7T0sLOz58+cBAQF+fn4Kic3v3buHBz969OiRlpYmlUrFYvGGDRvwrHS/fv0KCgpUVi4Wiz/44AOEUPv27SMjIxcvXvzBBx/Y29uTxGCLFy+uU0Kyiyg6OprlQ5G8X7a2tra2tgEBAY8ePZJIJJcvX8bf+YGBgYWFhSxrMzDbt2/Hwrds2VKberT3mClOjU9RVHh4eFBQ0IABA7p06ULf5mVnZxcYGDhy5Mhx48aFh4drI5i+4WdvZYaN5vC8v5uhvpmhsTIlj7m2tnbatGkIoWbNmgUHB8+cORN/UAoEgpEjR7LPr0jRclpmZWXVWTgmJqZdu3ZElS0sLLp163bkyBGNBlHwio45c+awv8R8SE5OXrVqVWxsLDZ/tbW1cXFxUVFRa9eupefVTE9P37lzZ2Rk5NmzZxUMpZYkJSUJhcKBAwfW1NRoX1teXt7Dhw/pR96/f79r165169bpaYZB3x6zXC5fvnw5PXqMs7PzxIkT8e+ePXtyFVxboqKiyKYNd3f33Nxc5TLZ2dkkYhSZwO3RowfRN3UUFxcvWLCgbdu2tra2bdu2/fbbbwsKCkgmIzaJVUnh5cuXs3yi6OhofMnAgQMvXbqExwux2M2bN1+/fr26pNx84D//+Q8Wvk+fPtrUoxOPmUPjUxSFZ/xFIpHD//Dw8CC/8XBJ3759tRFM3/C2tzLAUnP43N/NUN/M0FiZkseMuXbtWmhoaK9evbp16xYcHLx69WoF74QN1dXV+EuU/RR8bm7u1atX4+PjX716pentyK7E5ORkTa+t9yQkJLi7u+MkQ6GhoU+ePOnSpcvQoUNXrVqFV6tHRERUVVVNmTKlc+fOy5Yt+/rrrxFCo0aN0pXTnJ+f7+zs/OGHHypM5HGjoqLCyclpxowZ5EhxcbGvr+8XX3zh5+cnEok4qGud6Ntjxrx58+bixYv79u07f/58RUXFkiVLOLwhdE5BQcHx48djYmIqKioYij158iQ2NnbXrl2nT59+8eIFt3tVVlbiHLk2NjbMt8NMnz4dN9HUqVNZ3oJ4NhERERRFlZaWnjx5MiYm5vr16zr5nNMrJMPc7NmztalHJx4zh8avT/Czt6qDvebwtr+bob6ZobEymMesswwmvXv3Zt5wwwahUDhp0qTt27cfPXp03rx5bC7x9PT09PTkdjucs9TLy0tlqm0zZ9GiRTt37uzXr98vv/yyZ8+eK1eubNq0acSIEQihysrKRo0arV27NiEhoV+/fr///jv+fr1169apU6fu3r2Ll7ZrQ3l5+ciRI+Vy+dmzZ3WyYXbbtm3FxcX07acLFiwYOXLk6tWrFy5cePv27TNnzpB18AkJCYcOHdKo/k6dOs2ePVt7OVkik8kSExNFIlFAQICTkxOJ91xTU/P7778jhCwtLetMSKFXWrVqxSYvY5s2bbSPn5+UlITT4QYEBCjEa1eJj48P/qFyK5JK6FEyEUJNmjQZNWoUB1GNAnlMMpdtRDg0vqnD/96qDvaaw9v+bob6BsZKf+g955+mzJs3b+fOncnJyfSdfHrit99+QwgtWbJE53krTJ2HDx8WFBQMGjQoOzsbISSVSpcuXYrdZYSQUCgUCASVlZVt27b9/vvvyVU4+GVBQYGWHrNMJps0aVJOTs6FCxfYxOqvk1u3bq1YsaJZs2Yk3Onz58/Pnz+Po7Jg+0KP892kSRNNc8q4uLioO0Xpenu1TCYbMmQIDkEfExNDTzx76NAhHJxx/PjxOmk6/lBaWpqQkIDjkCicItH4WaY369ixI/7x8OFDNuUfPXr0/PlzhJBIJPLz82MrMT+gKIrkvtYy1IyLi0uzZs20jIauaeObOqbbW3WoORzQVX83N30DY6Vf9D2IzQEckXHmzJl6vcu5c+cQQm3btpVKpXq9kSkSFxe3bt06iqJ27tyJEOratSv97IMHDxBCIpHo7du35KBUKsUrau7fv6/l3b/55huE0L59+7SsB5OSkoI3f4SGhpKD586dW7t2LUVRmZmZCCE7Ozt9bLvBqzJat26t0VV1rsr4888/Sf9ds2YNOV5YWIiftEWLFhwWKfEZsVjcsmVLhJBQKHzy5An9VFlZGX5qS0tLlQsolXn37h3ZcUXfSK4O3AsQQv379+f4AMYjPz8fC29jY0M2ZxsRTRvf1DHd3mpEzdFhfzc3fTNPY2WwVRn/H/uQP6xbt65x48Z79+7VR6Y0DEVRK1asQAht3LiRdCeAMGTIELwA//r16wghhUDFeFC2W7du9Nwrt2/ffvv2rbOzs5afhjt37tyyZUtYWJj205QymWz79u39+/d//fo1Qoi+JCMoKAhHSsazomPHjiVJ2nUOpesx5sLCQvyjWbNmZMnau3fvxo8f//r168aNGx87dkw5qaxJs337dpwmSSKRvHnzhhyXSqVffPEF/v+Gh4ezXKDVsGFDkgfr/v37dZYns5w6yaNmYMgD+vn56TZZJjc0bXxTx3R7qxE1R4f93dz0DYyVXuGjx+zi4vLzzz9LpVI81qgPoqOj09LSpk2bxrek6nwDe8wKfQ/3SYWDOA5/UFCQNktcLl++PHfu3DFjxpDcN9yorKzct29fly5d5syZg3O0tmjRQnmdvUwmO3DgAEKIn4sI1eHv729padmkSZNLly7hRYE3btzo27fv9evXW7duffnyZebM8KYIye7Zq1cv8v7LyMgYNGjQqVOnLCwsli9fvnz5cvYVEmW4e/euujLFxcVLliz54osvjh07ho/ExcV99913YWFhlZWVXB7DGJBosszJww0Jm8avN5hubzWi5ui2v5uDvoGxMgwCnQ+A6YoZM2bs3r37t99+CwkJ0W3Nf//9d6dOnVxdXVNSUiBDNQN///23h4eHtbV1SUkJGYKlKMrFxaWoqOjq1atkWTBFUe7u7s+ePTt37pxC3kf2ZGdnd+/evVmzZlevXmX/fVlTU/Pu3bvi4uLi4uJXr15lZGTcuXPnzp07CmZizpw5W7duVbj2/Pnzw4YNa9OmTX5+Pj3XVGpq6vHjxzUS3sfHh57fFbNp06YFCxa4urqKxWL2VQ0YMCA+Pj4nJ4cks1Tm119/nTdvnkQiwaHECwoK7O3tp0+f/sMPP9Cjh9YbioqKhg8ffufOHTs7OwcHBxsbm+rq6hcvXlhYWPTr1++HH37o2bOnRhVevnwZb8DCAZhUlomJiSEbt+mIRKI3b97wcwhEmcDAwKSkJIRQQkICT4ad2DR+fcJEe6sRNUe3/d0c9M3MjVXPnj2Tk5PFYjF9P5I+4O+ChJ07d5aXl8+aNevDDz/UYSyLd+/ejR49ukmTJnFxceAuM3Pjxg2EkL+/P33FQk5OTlFRUYMGDej/lKSkpGfPnjk5OQ0cOBAh1KtXrzVr1mgUO6WkpCQ4OLisrKysrEwfSq/SmuAlGVOmTLGwsEhISFixYgUeUycjHOyRy+XqTunjo3TmzJkjRow4e/bs06dPmzRp4uXlNWTIEFMxixxo3rz57du309LSbt++XVRUJJFIRCKRt7d3YGAgN23p06ePg4NDaWlpUlJSVVWVynT3wcHBjx8/RggJhcIGDRpUVlbiHfoNGzY0laaurKxMTU1FCDk5OWn6UaE/2DR+fcIUe6txNUe3/d0c9A2MlYHQ90JpbZBIJOPGjXNxcdHhxojhw4e3bdtWo7wqZktoaChCaOXKlfSDOCbrkCFD6Ae//fZbhBCOdpyRkeHm5lZbW6vRvXA2VD3RsmVL5bw2EokEB/fAe+yCg4O3bt3KpZnUg3f+aZpoTdN4zAA3Jk2ahNXj8uXLxpZFX5BtZ9OmTTO2LP/AHBrfpOGt5nAD9I3/aKNyphePWR/Y2NgcOXLk3r17Opy62rBhg4uLi05C/NZ78BgzHjYm4JyoJKQoBi9p8PPze//+/ezZs9esWWNpaanRvfbs2VNdXY1/l5eXcxjlZcDe3p6+6AIjEAjkcrmDg4OXl1dcXNzTp09xynTtycvLKykpKS8vxw349u3bw4cPe3p6CgSCDh06kORYgHGZOnXqwYMHEUKnTp0i2cjqGSdPnsQ/+LZS3xwa36ThreZwA/SN/5iGyunbJQdMlJqaGisrKzc3N4Xoe35+fkKhMDs7m34wNzfXxcXF09PTw8MjMjLSsJJyZ+nSpQKBIDAw0NfXNz8/X1fVDh8+HCGEV+AR8IbIx48f13k5jDEbBplMhndiOTs718sQkzU1NThBroeHh27T12tPvW98k4bPmsMN0Deeo6XKmXV0OYAPWFtb379//+7duwrR944dO5aVldWuXTv6QU9Pz7y8vP3798fHxy9dutSwknInMjIyOzs7KioqLS3tgw8+0FW1Z8+epSiqoqKihAa2ApomRgH0h4WFxcyZMxFCr169io+PN7Y4uufChQvFxcUIoVmzZvEtSVO9b3yThs+aww3QN55jKioHHjOgFh8fn6ZNmyocdHNzU5meCu8F1D4DqoHx9vbu2bOntbW1sQUBjMCsWbPwiq99+/YZWxbdgx+qSZMm2FfgG/W78U0anmsON0Df+IypqBx4zAAAmCnEQMfGxmoUAZD/PH78GK8LnDNnDj9DmNXjxjdp+K853AB94y0mpHLgMQMAYL4sXbrU0dFRKpVu2bLF2LLoks2bN8tkMgcHh++++87Ysqilvja+SWMSmsMN0Dd+YkIqBx4zAADmi4ODw5IlSxBC0dHRr169MrY4uuHFixd4lnPlypWOjo7GFkct9bLxTRpT0RxugL7xENNSOfCYAQAwa7755hsfH5/y8vKVK1caWxbdsHz58srKyk6dOs2aNcvYstRB/Wt8k8aENIcboG98w7RUDjxmAADMGqFQuHfvXktLy+jo6MzMTGOLoy3p6en79u2zsrLas2cP/7e01rPGN2lMS3O4AfrGK0xO5cBjBgDA3PH391+8eLFMJgsNDdVt9hwDU1tb+/XXX8vl8vDw8C5duhhbHFbUm8Y3aUxRc7gB+sYTTFHlwGMGAABAERERgwcPvnHjxvr1640tC3dWr16dmpo6cODAsLAwY8uiAfWj8U0aE9UcboC+8QFTVDkBRVHGlgEAgP9nwIAB8fHxOTk5Xl5expbFvHj16lX37t0LCgpu3LjRtWtXY4ujMSkpKYGBgR4eHsnJyTiBlglh6o1v0pi05nAD9M246FblevbsmZycLBaLXV1ddSKeOmCMGQAAACGEnJ2dL1686OjoGBwcXFBQYGxxNOPFixdjx451dna+cOGCKTo9Jt34Jo2paw43QN+MiOmqHHjMAMBHOnfubP9PBg4caGyh6j9t27aNi4uTyWSjR49+//69scVhS0VFxfDhw+Vy+aVLl9zd3Y0tDkdMtPFNmvqhOdwAfTMKWqrc3r177ZW4deuWHiRVAXjMAMAvGjZsaG9vb2lpKVDC2KKZBZ06dUpMTKyoqPjpp5+MLQtbNm7cKJFIEhMTP/roI2PLohWm2PgmTb3RHG6Avhke7VVO+c2IX5oWFnp3aGEdMwAAAAAAAAAwAWPMAAAAAAAAAMAEeMwAAAAAAAAAwAR4zAAAAAAAAADABHjMAAAAAAAAAMAEeMwAAAAAAAAAwAR4zAAAAAAAAADABHjMAAAAAAAAAMAEeMwAAAAAAAAAwAR4zAAAAAAAAADABHjMAAAAAAAAAMAEeMwAAAAAAAAAwAR4zAAAAAAAAADABHjMAAAAAAAAAMDE/wFQvw/CECo/nAAAAABJRU5ErkJggg==)"
      ]
    },
    {
      "cell_type": "markdown",
      "metadata": {
        "id": "S1ULCrM9N_-a"
      },
      "source": [
        "Donde \"m\" es el número de muestras, \"y\" es una etiqueta con subíndice \"i\", \"p\" es la función predicción en base a la muestra con subíndice \"i\". A esta función se le conoce como función logarítmica de pérdida."
      ]
    },
    {
      "cell_type": "code",
      "metadata": {
        "id": "MUKgqsk3zLdJ"
      },
      "source": [
        "def sigmoid(x):\n",
        "  return 1/(1+np.exp(-x)) "
      ],
      "execution_count": 180,
      "outputs": []
    },
    {
      "cell_type": "markdown",
      "metadata": {
        "id": "AtexviIfSIve"
      },
      "source": [
        "Luego para nuestro algoritmo podemos resolver la optimización del costo tratando con derivadas parciales respecto a los pesos y actualizando estos mismos con el resultado de sus derivadas, es decir, utilizamos el algoritmo de gradiente descendiente."
      ]
    },
    {
      "cell_type": "code",
      "metadata": {
        "id": "fG79yavg0sVK"
      },
      "source": [
        "def train(X_train, Y_train, X_test, Y_test, learning_rate, iterations):\n",
        "  observations = X_train.shape[0]\n",
        "  features = X_train.shape[1]\n",
        "  observationsT = X_test.shape[0]\n",
        "  \n",
        "  W = np.zeros((1, features))\n",
        "  B = 0\n",
        "  costs = []\n",
        "  costsT = []\n",
        "\n",
        "  for i in range(iterations):\n",
        "    Z = np.dot(X_train, W.T) + B\n",
        "    zT = np.dot(X_test, W.T) + B\n",
        "    predictions = sigmoid(Z) \n",
        "    predictionsT = sigmoid(zT)\n",
        "\n",
        "    costT = -(1 / observationsT)*np.sum(Y_test*np.log(predictionsT) + (1-Y_test)*np.log(1-predictionsT)) \n",
        "    cost = -(1 / observations)*np.sum(Y_train*np.log(predictions) + (1-Y_train)*np.log(1-predictions))\n",
        "    \n",
        "    dW = (1/features)*np.dot(X_train.T, predictions-Y_train)\n",
        "    dB = (1/features)*np.sum(predictions - Y_train)\n",
        "\n",
        "    W = W - learning_rate*dW.T\n",
        "    B = B - learning_rate*dB\n",
        "\n",
        "    costs.append(cost)\n",
        "    costsT.append(costT)\n",
        "\n",
        "  return W, B, costs, costsT\n"
      ],
      "execution_count": 181,
      "outputs": []
    },
    {
      "cell_type": "markdown",
      "metadata": {
        "id": "He4hM1CeShwY"
      },
      "source": [
        "Definimos nuestros hiperparámetros como el número de iteraciones así como el *learning_rate* "
      ]
    },
    {
      "cell_type": "code",
      "metadata": {
        "id": "vKDG4Gkr1VQn"
      },
      "source": [
        "iterations = 200\n",
        "\n",
        "learning_rate = 0.001\n",
        "\n",
        "W, B, costs, costsT = train(Xtrain, Ytrain, Xtest, Ytest, learning_rate, iterations)"
      ],
      "execution_count": 182,
      "outputs": []
    },
    {
      "cell_type": "markdown",
      "metadata": {
        "id": "WdEALSHhUZUj"
      },
      "source": [
        "Graficamos el costo de error en el dataset de entrenamiento y en el dataset de test donde observamos que no existe un overfitting ni un underfitting con respecto al modelo entrenado. "
      ]
    },
    {
      "cell_type": "code",
      "metadata": {
        "id": "smex878z14gn",
        "colab": {
          "base_uri": "https://localhost:8080/",
          "height": 265
        },
        "outputId": "2b049ca0-fd9c-4d0b-f224-f454f57377d6"
      },
      "source": [
        "plt.plot(costs)\n",
        "plt.plot(costsT)\n",
        "plt.show()"
      ],
      "execution_count": 183,
      "outputs": [
        {
          "output_type": "display_data",
          "data": {
            "image/png": "[encoded data removed]",
            "text/plain": [
              "<Figure size 432x288 with 1 Axes>"
            ]
          },
          "metadata": {
            "needs_background": "light"
          }
        }
      ]
    },
    {
      "cell_type": "markdown",
      "metadata": {
        "id": "dsJ4-CO9XW91"
      },
      "source": [
        "Ahora validaremos nuestro modelo con el validation dataset"
      ]
    },
    {
      "cell_type": "code",
      "metadata": {
        "id": "lZlPI0bNXcex"
      },
      "source": [
        "Y_predictions  = []\n",
        "for i in range(Yvalidate.shape[0]):\n",
        "  Z = np.dot(Xvalidate[i], W.T) + B\n",
        "  if ( sigmoid(Z) > 0.5):\n",
        "    Y_predictions.append(1)\n",
        "  else:\n",
        "    Y_predictions.append(0)"
      ],
      "execution_count": 186,
      "outputs": []
    },
    {
      "cell_type": "markdown",
      "metadata": {
        "id": "cvFJjMWYZ8JD"
      },
      "source": [
        "Observamos que tenemos un 96% de precisión"
      ]
    },
    {
      "cell_type": "code",
      "metadata": {
        "colab": {
          "base_uri": "https://localhost:8080/"
        },
        "id": "KRY1sknlZqqK",
        "outputId": "bfe47090-9ce8-4dd8-c181-a832dd74a0d0"
      },
      "source": [
        "from sklearn.metrics import accuracy_score\n",
        "accuracy_score(Yvalidate, Y_predictions)"
      ],
      "execution_count": 188,
      "outputs": [
        {
          "output_type": "execute_result",
          "data": {
            "text/plain": [
              "0.9611940298507463"
            ]
          },
          "metadata": {},
          "execution_count": 188
        }
      ]
    },
    {
      "cell_type": "markdown",
      "metadata": {
        "id": "I_XwCB9SamrJ"
      },
      "source": [
        "# **Support Vector Machines**\n",
        "\n",
        "El objetivo con SVM es encontrar un hiperplano que separe las muestras en hombre y mujer respectivamente, para nuestra implementación no usaremos alguno truco de kernel sino iremos directo a optimizar nuestra función con respecto a los parámetros de la ecuación del hiperplano.\n"
      ]
    },
    {
      "cell_type": "markdown",
      "metadata": {
        "id": "clH6yXobtDE6"
      },
      "source": [
        "![ss.png](data:image/png;base64,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)"
      ]
    },
    {
      "cell_type": "code",
      "metadata": {
        "id": "jW6EFpbjBvnd"
      },
      "source": [
        "def svm_train(X, Y, epochs = 1000, learning_rate = 1):\n",
        "  w = np.zeros(len(X[0]))\n",
        "  #W_exp = np.zeros(len(X[0]))\n",
        "  for epoch in range(1, epochs):\n",
        "    #error = 0\n",
        "    #score_ = accuracy_score(Y, np.sign(np.dot(X, W_exp)))\n",
        "    #if (score_ < 0.90):\n",
        "    #  W_exp = W_exp + learning_rate * ((X[i]*Y[i]) + (-2 * (1/1000) *  W_exp))\n",
        "    #else:\n",
        "    #  W_exp = W_exp + learning_rate * (-2 * (1/1000) * W_exp)\n",
        "    \n",
        "    for i, x in enumerate(X):\n",
        "      if(Y[i] * np.dot(X[i], w)) < 1:\n",
        "        w = w + learning_rate * ((X[i]*Y[i]) + (-2 * (1/1000) *  w))\n",
        "      else:\n",
        "        w = w + learning_rate * (-2 * (1/1000) * w)\n",
        "\n",
        "  return w"
      ],
      "execution_count": null,
      "outputs": []
    },
    {
      "cell_type": "code",
      "metadata": {
        "id": "VXNt4mY-C0mv",
        "colab": {
          "base_uri": "https://localhost:8080/"
        },
        "outputId": "5e7f8557-991f-48d1-8fd8-04bb3d2d67a5"
      },
      "source": [
        "XSVM = pd.read_csv('xtrain.csv')\n",
        "XSVM = XSVM.assign(B = -1)\n",
        "XSVM = XSVM.values\n",
        "XSVM[0]"
      ],
      "execution_count": null,
      "outputs": [
        {
          "output_type": "execute_result",
          "data": {
            "text/plain": [
              "array([ 1.        ,  0.14634146,  0.5       ,  0.        ,  0.        ,\n",
              "        0.        ,  0.        , -1.        ])"
            ]
          },
          "metadata": {},
          "execution_count": 147
        }
      ]
    },
    {
      "cell_type": "code",
      "metadata": {
        "colab": {
          "base_uri": "https://localhost:8080/"
        },
        "id": "NWXntraJzP03",
        "outputId": "63013419-1489-48e9-c5f3-1fff8d75cbb4"
      },
      "source": [
        "YSVM = pd.read_csv('ytrain.csv')\n",
        "YSVM['gender']=YSVM['gender'].map({1:1, 0: -1})\n",
        "YSVM = YSVM.values\n",
        "YSVM = YSVM.reshape(XSVM.shape[0], 1)\n",
        "YSVM[0]"
      ],
      "execution_count": null,
      "outputs": [
        {
          "output_type": "execute_result",
          "data": {
            "text/plain": [
              "array([1])"
            ]
          },
          "metadata": {},
          "execution_count": 148
        }
      ]
    },
    {
      "cell_type": "code",
      "metadata": {
        "colab": {
          "base_uri": "https://localhost:8080/"
        },
        "id": "lGx4hMOkS_KQ",
        "outputId": "ca9527a5-5229-405b-f011-3a6ee0eb323a"
      },
      "source": [
        "w = np.zeros(8)\n",
        "print(XSVM.shape)\n",
        "print(w.shape)\n",
        "np.dot(XSVM, w).shape"
      ],
      "execution_count": null,
      "outputs": [
        {
          "output_type": "stream",
          "name": "stdout",
          "text": [
            "(3500, 8)\n",
            "(8,)\n"
          ]
        },
        {
          "output_type": "execute_result",
          "data": {
            "text/plain": [
              "(3500,)"
            ]
          },
          "metadata": {},
          "execution_count": 149
        }
      ]
    },
    {
      "cell_type": "code",
      "metadata": {
        "colab": {
          "base_uri": "https://localhost:8080/"
        },
        "id": "lVF0Mnb-4cpS",
        "outputId": "d748a6a2-fc47-4fc2-d0bc-6c743359bb0c"
      },
      "source": [
        "WWW = np.zeros(len(XSVM[0]))\n",
        "WWW.shape"
      ],
      "execution_count": null,
      "outputs": [
        {
          "output_type": "execute_result",
          "data": {
            "text/plain": [
              "(8,)"
            ]
          },
          "metadata": {},
          "execution_count": 150
        }
      ]
    },
    {
      "cell_type": "code",
      "metadata": {
        "id": "9TxM2wqd2rQd"
      },
      "source": [
        "WWW = svm_train(XSVM, YSVM)"
      ],
      "execution_count": null,
      "outputs": []
    },
    {
      "cell_type": "code",
      "metadata": {
        "id": "dcYTFfopF7DY",
        "colab": {
          "base_uri": "https://localhost:8080/"
        },
        "outputId": "034a46d7-7a4a-4f3b-8a15-be14e50b988e"
      },
      "source": [
        "WWW"
      ],
      "execution_count": null,
      "outputs": [
        {
          "output_type": "execute_result",
          "data": {
            "text/plain": [
              "array([ 1.23519549, -2.46612794, -0.82263687, -4.27439157, -3.2016361 ,\n",
              "       -2.54648441, -4.53285119, -5.49505834])"
            ]
          },
          "metadata": {},
          "execution_count": 152
        }
      ]
    },
    {
      "cell_type": "code",
      "metadata": {
        "id": "YBy9t-XTLJ_i"
      },
      "source": [
        ""
      ],
      "execution_count": null,
      "outputs": []
    },
    {
      "cell_type": "code",
      "metadata": {
        "id": "DD24va7l3Cot"
      },
      "source": [
        "YSVM_test = pd.read_csv('yvalidate.csv')\n",
        "YSVM_test['gender']=YSVM_test['gender'].map({1:1, 0: -1})\n",
        "XSVM_test = pd.read_csv('xvalidate.csv')"
      ],
      "execution_count": 189,
      "outputs": []
    },
    {
      "cell_type": "code",
      "metadata": {
        "id": "gagBrSHR39x-"
      },
      "source": [
        "XSVM_test = XSVM_test.values\n",
        "XSVM_test.shape\n",
        "YSVM_test = YSVM_test.values\n",
        "YSVM_test = YSVM_test.reshape(XSVM_test.shape[0], 1)"
      ],
      "execution_count": 190,
      "outputs": []
    },
    {
      "cell_type": "code",
      "metadata": {
        "colab": {
          "base_uri": "https://localhost:8080/"
        },
        "id": "pA8V0_DXGwp7",
        "outputId": "deed186e-dcc6-4821-f6da-ec5b7640ed60"
      },
      "source": [
        "error = 0\n",
        "y_predicted = []\n",
        "for i, x in enumerate(XSVM_test):\n",
        "  prediction = np.sign(np.dot(x, WWW[:-1]) - WWW[-1:])\n",
        "  y_predicted.append(prediction)\n",
        "  if np.sign(np.dot(x, WWW[:-1]) - WWW[-1:]) != np.sign(YSVM_test[i]):\n",
        "    error += 1\n",
        "print(error)"
      ],
      "execution_count": 191,
      "outputs": [
        {
          "output_type": "stream",
          "name": "stdout",
          "text": [
            "44\n"
          ]
        }
      ]
    },
    {
      "cell_type": "code",
      "metadata": {
        "colab": {
          "base_uri": "https://localhost:8080/"
        },
        "id": "_1KiZ4j9FgMJ",
        "outputId": "9ff1b4b0-f3dd-442a-ca5b-5a98ec24017d"
      },
      "source": [
        "YSVM_test.shape"
      ],
      "execution_count": 192,
      "outputs": [
        {
          "output_type": "execute_result",
          "data": {
            "text/plain": [
              "(1005, 1)"
            ]
          },
          "metadata": {},
          "execution_count": 192
        }
      ]
    },
    {
      "cell_type": "code",
      "metadata": {
        "id": "mlpeX2QBIHV0"
      },
      "source": [
        ""
      ],
      "execution_count": 192,
      "outputs": []
    },
    {
      "cell_type": "code",
      "metadata": {
        "id": "IylLWnKub3_z"
      },
      "source": [
        "from sklearn.metrics import confusion_matrix"
      ],
      "execution_count": 193,
      "outputs": []
    },
    {
      "cell_type": "code",
      "metadata": {
        "colab": {
          "base_uri": "https://localhost:8080/"
        },
        "id": "eZfQ-3IVc3BX",
        "outputId": "7fb7292f-b53d-423f-fd43-d4773cbe98b8"
      },
      "source": [
        "confusion_matrix(YSVM_test, y_predicted)"
      ],
      "execution_count": 194,
      "outputs": [
        {
          "output_type": "execute_result",
          "data": {
            "text/plain": [
              "array([[480,   3],\n",
              "       [ 41, 481]])"
            ]
          },
          "metadata": {},
          "execution_count": 194
        }
      ]
    },
    {
      "cell_type": "code",
      "metadata": {
        "colab": {
          "base_uri": "https://localhost:8080/"
        },
        "id": "NXTLzIjGdidY",
        "outputId": "20ca0d0d-32b2-4793-8f1e-ef4660c5675e"
      },
      "source": [
        "accuracy_score(YSVM_test, y_predicted)"
      ],
      "execution_count": 196,
      "outputs": [
        {
          "output_type": "execute_result",
          "data": {
            "text/plain": [
              "0.9562189054726368"
            ]
          },
          "metadata": {},
          "execution_count": 196
        }
      ]
    },
    {
      "cell_type": "code",
      "metadata": {
        "id": "fyObMOODdndL"
      },
      "source": [
        ""
      ],
      "execution_count": null,
      "outputs": []
    }
  ]
}