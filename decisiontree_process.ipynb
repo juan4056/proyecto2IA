{
 "cells": [
  {
   "cell_type": "code",
   "execution_count": 6,
   "metadata": {},
   "outputs": [],
   "source": [
    "import pandas as pd\n",
    "from sklearn.metrics import confusion_matrix, accuracy_score\n",
    "import numpy as np\n",
    "import matplotlib.pyplot as plt\n",
    "from scipy.stats import norm  \n"
   ]
  },
  {
   "cell_type": "code",
   "execution_count": 7,
   "metadata": {},
   "outputs": [],
   "source": [
    "k = 10\n",
    "y_true = []\n",
    "y_predict = []\n",
    "for i in range(k):\n",
    "    ktrue = pd.read_csv('data/test/testY' +\n",
    "                        str(i) + '.pts', sep='\t', header=None)\n",
    "    kpredict = pd.read_csv('data/results/dt/results' +\n",
    "                        str(i) + '.pts', sep='\t', header=None)\n",
    "    y_true.append(ktrue)\n",
    "    y_predict.append(kpredict)"
   ]
  },
  {
   "cell_type": "code",
   "execution_count": 8,
   "metadata": {},
   "outputs": [
    {
     "name": "stdout",
     "output_type": "stream",
     "text": [
      "Experiment 1:\n",
      "[[175  86]\n",
      " [ 72 168]]\n",
      "Experiment 2:\n",
      "[[177  79]\n",
      " [ 66 178]]\n",
      "Experiment 3:\n",
      "[[162  64]\n",
      " [ 82 192]]\n",
      "Experiment 4:\n",
      "[[199  54]\n",
      " [ 75 172]]\n",
      "Experiment 5:\n",
      "[[179  66]\n",
      " [ 73 182]]\n",
      "Experiment 6:\n",
      "[[193  72]\n",
      " [ 61 174]]\n",
      "Experiment 7:\n",
      "[[188  67]\n",
      " [ 67 178]]\n",
      "Experiment 8:\n",
      "[[192  52]\n",
      " [ 64 192]]\n",
      "Experiment 9:\n",
      "[[179  69]\n",
      " [ 67 185]]\n",
      "Experiment 10:\n",
      "[[191  56]\n",
      " [ 66 187]]\n"
     ]
    }
   ],
   "source": [
    "for i in range(k):\n",
    "    print(\"Experiment \" + str(i + 1) + \":\")\n",
    "    print(confusion_matrix(y_true[i], y_predict[i]))"
   ]
  },
  {
   "cell_type": "code",
   "execution_count": 15,
   "metadata": {},
   "outputs": [
    {
     "name": "stdout",
     "output_type": "stream",
     "text": [
      "Experiment 1: 0.6846307385229541\n",
      "Experiment 2: 0.71\n",
      "Experiment 3: 0.708\n",
      "Experiment 4: 0.742\n",
      "Experiment 5: 0.722\n",
      "Experiment 6: 0.734\n",
      "Experiment 7: 0.732\n",
      "Experiment 8: 0.768\n",
      "Experiment 9: 0.728\n",
      "Experiment 10: 0.756\n"
     ]
    }
   ],
   "source": [
    "errors = []\n",
    "for i in range(k):\n",
    "    print(\"Experiment \" + str(i + 1), end=\": \")\n",
    "    print(accuracy_score(y_true[i], y_predict[i]))\n",
    "    errors.append(1 - accuracy_score(y_true[i], y_predict[i]))"
   ]
  },
  {
   "cell_type": "code",
   "execution_count": 14,
   "metadata": {},
   "outputs": [
    {
     "name": "stdout",
     "output_type": "stream",
     "text": [
      "Experiment 1: 0.3153692614770459\n",
      "Experiment 2: 0.29000000000000004\n",
      "Experiment 3: 0.29200000000000004\n",
      "Experiment 4: 0.258\n",
      "Experiment 5: 0.278\n",
      "Experiment 6: 0.266\n",
      "Experiment 7: 0.268\n",
      "Experiment 8: 0.23199999999999998\n",
      "Experiment 9: 0.272\n",
      "Experiment 10: 0.244\n",
      "Estimación del Error: 0.27153692614770464\n"
     ]
    }
   ],
   "source": [
    "for i in range(k):\n",
    "    print(\"Experiment \" + str(i + 1), end=\": \")\n",
    "    print(errors[i])\n",
    "print(\"Estimación del Error: \" + str(np.mean(errors)))\n"
   ]
  },
  {
   "cell_type": "code",
   "execution_count": 10,
   "metadata": {},
   "outputs": [
    {
     "data": {
      "image/png": "[encoded data removed]",
      "text/plain": [
       "<Figure size 432x288 with 1 Axes>"
      ]
     },
     "metadata": {
      "needs_background": "light"
     },
     "output_type": "display_data"
    }
   ],
   "source": [
    "mu = np.mean(errors)\n",
    "sigma = np.std(errors)\n",
    "x = np.linspace(mu - 3*sigma, mu + 3*sigma, 100)\n",
    "plt.plot(x, norm.pdf(x, mu, sigma))\n",
    "plt.show()"
   ]
  }
 ],
 "metadata": {
  "interpreter": {
   "hash": "916dbcbb3f70747c44a77c7bcd40155683ae19c65e1c03b4aa3499c5328201f1"
  },
  "kernelspec": {
   "display_name": "Python 3.8.10 64-bit",
   "name": "python3"
  },
  "language_info": {
   "codemirror_mode": {
    "name": "ipython",
    "version": 3
   },
   "file_extension": ".py",
   "mimetype": "text/x-python",
   "name": "python",
   "nbconvert_exporter": "python",
   "pygments_lexer": "ipython3",
   "version": "3.8.10"
  },
  "orig_nbformat": 4
 },
 "nbformat": 4,
 "nbformat_minor": 2
}
